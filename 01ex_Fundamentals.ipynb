{
 "cells": [
  {
   "cell_type": "markdown",
   "metadata": {},
   "source": [
    "1\\. Write the following as a list comprehension"
   ]
  },
  {
   "cell_type": "code",
<<<<<<< HEAD
   "execution_count": null,
=======
   "execution_count": 1,
>>>>>>> 47d156ecef0d6658a4733141f77894175af71d19
   "metadata": {},
   "outputs": [],
   "source": [
    "# 1\n",
    "ans = []\n",
    "for i in range(3):\n",
    "    for j in range(4):\n",
    "        ans.append((i, j))\n",
    "print (ans)\n",
    "\n",
    "# 2\n",
    "ans = map(lambda x: x*x, filter(lambda x: x%2 == 0, range(5)))\n",
    "print (list(ans))\n",
    "\n"
   ]
  },
  {
   "cell_type": "code",
   "execution_count": 2,
   "metadata": {},
   "outputs": [
    {
     "name": "stdout",
     "output_type": "stream",
     "text": [
      "[(0, 0), (0, 1), (0, 2), (0, 3), (1, 0), (1, 1), (1, 2), (1, 3), (2, 0), (2, 1), (2, 2), (2, 3)]\n",
      "[0, 4, 16]\n"
     ]
    }
   ],
   "source": [
    "#1\n",
    "ans = [(i,j) for i in range(0,3) for j in range(0,4)]\n",
    "print(ans)\n",
    "\n",
    "#2\n",
    "ans = [i**2 for i in range(0,5,2)]\n",
    "print(ans)"
   ]
  },
  {
   "cell_type": "markdown",
   "metadata": {},
   "source": [
    "2\\. Convert the following function into a pure function with no global variables or side effects"
   ]
  },
  {
   "cell_type": "code",
<<<<<<< HEAD
   "execution_count": null,
=======
   "execution_count": 3,
>>>>>>> 47d156ecef0d6658a4733141f77894175af71d19
   "metadata": {},
   "outputs": [],
   "source": [
    "x = 5\n",
    "def f(alist):\n",
    "    for i in range(x):\n",
    "        alist.append(i)\n",
    "    return alist\n",
    "\n",
    "alist = [1,2,3]\n",
    "ans = f(alist)\n",
    "print (ans)\n",
    "print (alist) # alist has been changed!"
   ]
  },
  {
   "cell_type": "code",
   "execution_count": 4,
   "metadata": {},
   "outputs": [
    {
     "name": "stdout",
     "output_type": "stream",
     "text": [
      "[1, 2, 3, 0, 1, 2, 3, 4]\n",
      "[1, 2, 3]\n"
     ]
    }
   ],
   "source": [
    "def f(liszt,ran=5):\n",
    "    l=[]\n",
    "    for i in range(len(liszt)):\n",
    "        l.append(liszt[i])#devo copiare alist in l altrimenti me la modifica\n",
    "    for i in range(ran):\n",
    "        l.append(i)\n",
    "    return l\n",
    "\n",
    "alist = [1,2,3]\n",
    "ans = f(alist)\n",
    "print (ans)\n",
    "print (alist)"
   ]
  },
  {
   "cell_type": "markdown",
   "metadata": {},
   "source": [
    "3\\. Write a `decorator` hello that makes every wrapped function print “Hello!”, i.e. something like:\n",
    "\n",
    "```python\n",
    "@hello\n",
    "def square(x):\n",
    "    return x*x\n",
    "```\n",
    "\n"
   ]
  },
  {
   "cell_type": "code",
   "execution_count": 5,
   "metadata": {},
   "outputs": [
    {
     "name": "stdout",
     "output_type": "stream",
     "text": [
      "Hello!\n",
      "1024\n"
     ]
    }
   ],
   "source": [
    "\n",
    "\n",
    "def hello(func,x):\n",
    "    def wrapp(x):\n",
    "        print(\"Hello!\")\n",
    "        print(func(x))\n",
    "    return wrapp\n",
    "\n",
    "def square(y):\n",
    "    return y*y\n",
    "\n",
    "square = hello(square,x)\n",
    "square(32)\n",
    "\n"
   ]
  },
  {
   "cell_type": "markdown",
   "metadata": {},
   "source": [
    "4\\. Write the factorial function so that it a) does and b) does not use recursion."
   ]
  },
  {
   "cell_type": "markdown",
   "metadata": {},
   "source": [
    "5\\. Use HOFs (zip in particular) to compute the weight of a circle, a disk and a sphere, assuming different radii and different densities:\n",
    "\n",
    "```python\n",
    "densities = {\"Al\":[0.5,1,2],\"Fe\":[3,4,5],\"Pb\": [15,20,30]}\n",
    "radii = [1,2,3]\n",
    "```\n",
    "\n",
    "where the entries of the dictionary's values are the linear, superficial and volumetric densities of the materials respectively.\n",
    "\n",
    "In particular define a list of three lambda functions using a comprehension that computes the circumference, the area and the volume for a given radius.\n"
   ]
  },
  {
<<<<<<< HEAD
=======
   "cell_type": "code",
   "execution_count": 7,
   "metadata": {},
   "outputs": [
    {
     "name": "stdout",
     "output_type": "stream",
     "text": [
      "il peso di circonferenza di raggio 1 fatta di Al e'3.141592653589793\n",
      "\n",
      "il peso di circonferenza di raggio 1 fatta di Fe e'18.84955592153876\n",
      "\n",
      "il peso di circonferenza di raggio 1 fatta di Pb e'94.24777960769379\n",
      "\n",
      "il peso di disco di raggio 1 fatta di Al e'3.141592653589793\n",
      "\n",
      "il peso di disco di raggio 1 fatta di Fe e'12.566370614359172\n",
      "\n",
      "il peso di disco di raggio 1 fatta di Pb e'62.83185307179586\n",
      "\n",
      "il peso di sfera di raggio 1 fatta di Al e'8.377580409572781\n",
      "\n",
      "il peso di sfera di raggio 1 fatta di Fe e'20.94395102393195\n",
      "\n",
      "il peso di sfera di raggio 1 fatta di Pb e'125.66370614359171\n",
      "\n",
      "il peso di circonferenza di raggio 2 fatta di Al e'6.283185307179586\n",
      "\n",
      "il peso di circonferenza di raggio 2 fatta di Fe e'37.69911184307752\n",
      "\n",
      "il peso di circonferenza di raggio 2 fatta di Pb e'188.49555921538757\n",
      "\n",
      "il peso di disco di raggio 2 fatta di Al e'12.566370614359172\n",
      "\n",
      "il peso di disco di raggio 2 fatta di Fe e'50.26548245743669\n",
      "\n",
      "il peso di disco di raggio 2 fatta di Pb e'251.32741228718345\n",
      "\n",
      "il peso di sfera di raggio 2 fatta di Al e'67.02064327658225\n",
      "\n",
      "il peso di sfera di raggio 2 fatta di Fe e'167.5516081914556\n",
      "\n",
      "il peso di sfera di raggio 2 fatta di Pb e'1005.3096491487337\n",
      "\n",
      "il peso di circonferenza di raggio 3 fatta di Al e'9.42477796076938\n",
      "\n",
      "il peso di circonferenza di raggio 3 fatta di Fe e'56.548667764616276\n",
      "\n",
      "il peso di circonferenza di raggio 3 fatta di Pb e'282.7433388230814\n",
      "\n",
      "il peso di disco di raggio 3 fatta di Al e'28.274333882308138\n",
      "\n",
      "il peso di disco di raggio 3 fatta di Fe e'113.09733552923255\n",
      "\n",
      "il peso di disco di raggio 3 fatta di Pb e'565.4866776461628\n",
      "\n",
      "il peso di sfera di raggio 3 fatta di Al e'226.1946710584651\n",
      "\n",
      "il peso di sfera di raggio 3 fatta di Fe e'565.4866776461628\n",
      "\n",
      "il peso di sfera di raggio 3 fatta di Pb e'3392.9200658769764\n",
      "\n"
     ]
    }
   ],
   "source": [
    "from math import pi\n",
    "densities = {\"Al\":[0.5,1,2],\"Fe\":[3,4,5],\"Pb\": [15,20,30]}\n",
    "radii = [1,2,3]\n",
    "forme=[\"circonferenza\", \"disco\", \"sfera\"]\n",
    "\n",
    "conti=[lambda x: 2*pi*x, lambda x: pi*x*x, lambda x: 4/3*pi*x*x*x]\n",
    "\n",
    "for x in radii:\n",
    "    for c,dAl,dFe,dPb,f in zip(range(0,3), densities[\"Al\"],densities[\"Fe\"],densities[\"Pb\"], forme):\n",
    "        print(\"il peso di \"+ f+\" di raggio \"+str(x)+\" fatta di Al e'\"+str(conti[c](x)*dAl)+'\\n')\n",
    "        print(\"il peso di \"+ f +\" di raggio \"+str(x)+\" fatta di Fe e'\"+str(conti[c](x)*dFe)+'\\n')\n",
    "        print(\"il peso di \"+ f+\" di raggio \"+str(x)+\" fatta di Pb e'\"+str(conti[c](x)*dPb)+'\\n')"
   ]
  },
  {
>>>>>>> 47d156ecef0d6658a4733141f77894175af71d19
   "cell_type": "markdown",
   "metadata": {},
   "source": [
    "6\\. Edit the class defintion to add an instance attribute of is_hungry = True to the Dog class. Then add a method called eat() which changes the value of is_hungry to False when called. Figure out the best way to feed each dog and then output “My dogs are hungry.” if all are hungry or “My dogs are not hungry.” if all are not hungry. The final output should look like this:\n",
    "\n",
    "`I have 3 dogs. \n",
    "Tom is 6. \n",
    "Fletcher is 7. \n",
    "Larry is 9. \n",
    "And they're all mammals, of course. \n",
    "My dogs are not hungry.\n",
    "`\n",
    "\n",
    "```python\n",
    "# Parent class\n",
    "class Dog:\n",
    "\n",
    "    # Class attribute\n",
    "    species = 'mammal'\n",
    "\n",
    "    # Initializer / Instance attributes\n",
    "    def __init__(self, name, age):\n",
    "        self.name = name\n",
    "        self.age = age\n",
    "\n",
    "    # instance method\n",
    "    def description(self):\n",
    "        return \"{} is {} years old\".format(self.name, self.age)\n",
    "\n",
    "    # instance method\n",
    "    def speak(self, sound):\n",
    "        return \"{} says {}\".format(self.name, sound)\n",
    "\n",
    "# Child class (inherits from Dog class)\n",
    "class RussellTerrier(Dog):\n",
    "    def run(self, speed):\n",
    "        return \"{} runs {}\".format(self.name, speed)\n",
    "\n",
    "# Child class (inherits from Dog class)\n",
    "class Bulldog(Dog):\n",
    "    def run(self, speed):\n",
    "        return \"{} runs {}\".format(self.name, speed)\n",
    "```"
   ]
  },
  {
   "cell_type": "code",
   "execution_count": 2,
   "metadata": {},
   "outputs": [
    {
     "name": "stdout",
     "output_type": "stream",
     "text": [
      "I have  2  dogs\n",
      "My dogs are hungry.\n",
      "buddy is 12 years old\n",
      "tobia is 10 years old\n",
      "I have  2  dogs\n",
      "My dogs are not hungry\n"
     ]
    }
   ],
   "source": [
    "class Dog:\n",
    "    species=\"mammals\"       \n",
    "    is_hungry=True\n",
    "    def __init__(self, name, age):\n",
    "        self.name = name\n",
    "        self.age = age\n",
    "\n",
    "    def description(self):\n",
    "        print(\"{} is {} years old\".format(self.name, self.age))\n",
    "    \n",
    "    def eat(self):\n",
    "        self.is_hungry = False\n",
    "    \n",
    "def branco(cani):\n",
    "    print(\"I have \", len(cani), \" dogs\")\n",
    "    conta=False\n",
    "    for i in range(len(cani)):\n",
    "        if cani[i].is_hungry==True:\n",
    "            conta=True\n",
    "    if conta:\n",
    "        print(\"My dogs are hungry.\")\n",
    "    else:\n",
    "        print(\"My dogs are not hungry\")\n",
    "\n",
    "\n",
    "\n",
    "can=[]\n",
    "buddy=Dog(\"buddy\",12)\n",
    "puppy=Dog(\"tobia\",10)\n",
    "\n",
    "can.append(buddy)\n",
    "can.append(puppy)\n",
    "\n",
    "branco(can)\n",
    "\n",
    "buddy.description()\n",
    "puppy.description()\n",
    "buddy.eat()\n",
    "puppy.eat()\n",
    "\n",
    "branco(can)"
   ]
  },
  {
   "cell_type": "code",
   "execution_count": null,
   "metadata": {
    "collapsed": true
   },
   "outputs": [],
   "source": []
  }
 ],
 "metadata": {
  "kernelspec": {
   "display_name": "Python 3",
   "language": "python",
   "name": "python3"
  },
  "language_info": {
   "codemirror_mode": {
    "name": "ipython",
    "version": 3
   },
   "file_extension": ".py",
   "mimetype": "text/x-python",
   "name": "python",
   "nbconvert_exporter": "python",
   "pygments_lexer": "ipython3",
   "version": "3.6.3"
  }
 },
 "nbformat": 4,
 "nbformat_minor": 2
}
